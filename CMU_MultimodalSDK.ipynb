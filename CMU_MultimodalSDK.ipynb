{
  "nbformat": 4,
  "nbformat_minor": 0,
  "metadata": {
    "colab": {
      "provenance": [],
      "authorship_tag": "ABX9TyNX2NoCR3GczNtf65lpiNRD",
      "include_colab_link": true
    },
    "kernelspec": {
      "name": "python3",
      "display_name": "Python 3"
    },
    "language_info": {
      "name": "python"
    }
  },
  "cells": [
    {
      "cell_type": "markdown",
      "metadata": {
        "id": "view-in-github",
        "colab_type": "text"
      },
      "source": [
        "<a href=\"https://colab.research.google.com/github/EjbejaranosAI/CMU-MultimodalSDK-1/blob/main/CMU_MultimodalSDK.ipynb\" target=\"_parent\"><img src=\"https://colab.research.google.com/assets/colab-badge.svg\" alt=\"Open In Colab\"/></a>"
      ]
    },
    {
      "cell_type": "code",
      "execution_count": 1,
      "metadata": {
        "colab": {
          "base_uri": "https://localhost:8080/"
        },
        "id": "bDuLyfFMOV80",
        "outputId": "2ece42f2-4c22-4827-f235-7b4503bca139"
      },
      "outputs": [
        {
          "output_type": "stream",
          "name": "stdout",
          "text": [
            "Cloning into 'CMU-MultimodalSDK-1'...\n",
            "remote: Enumerating objects: 86, done.\u001b[K\n",
            "remote: Counting objects: 100% (86/86), done.\u001b[K\n",
            "remote: Compressing objects: 100% (72/72), done.\u001b[K\n",
            "remote: Total 86 (delta 7), reused 83 (delta 7), pack-reused 0\u001b[K\n",
            "Unpacking objects: 100% (86/86), 290.29 KiB | 3.72 MiB/s, done.\n"
          ]
        }
      ],
      "source": [
        "!git clone https://github.com/EjbejaranosAI/CMU-MultimodalSDK-1.git"
      ]
    },
    {
      "cell_type": "code",
      "source": [
        "!pip install h5py validators tqdm\n",
        "!pip install argparse\n",
        "!pip install requests\n",
        "!pip install colorama"
      ],
      "metadata": {
        "colab": {
          "base_uri": "https://localhost:8080/",
          "height": 462
        },
        "id": "J-78hs0Wa9ab",
        "outputId": "25c799aa-cf31-4902-d4e0-359da3ddf3a0"
      },
      "execution_count": 13,
      "outputs": [
        {
          "output_type": "stream",
          "name": "stdout",
          "text": [
            "Looking in indexes: https://pypi.org/simple, https://us-python.pkg.dev/colab-wheels/public/simple/\n",
            "Requirement already satisfied: h5py in /usr/local/lib/python3.10/dist-packages (3.8.0)\n",
            "Requirement already satisfied: validators in /usr/local/lib/python3.10/dist-packages (0.20.0)\n",
            "Requirement already satisfied: tqdm in /usr/local/lib/python3.10/dist-packages (4.65.0)\n",
            "Requirement already satisfied: numpy>=1.14.5 in /usr/local/lib/python3.10/dist-packages (from h5py) (1.22.4)\n",
            "Requirement already satisfied: decorator>=3.4.0 in /usr/local/lib/python3.10/dist-packages (from validators) (4.4.2)\n",
            "Looking in indexes: https://pypi.org/simple, https://us-python.pkg.dev/colab-wheels/public/simple/\n",
            "Collecting argparse\n",
            "  Using cached argparse-1.4.0-py2.py3-none-any.whl (23 kB)\n",
            "Installing collected packages: argparse\n",
            "Successfully installed argparse-1.4.0\n"
          ]
        },
        {
          "output_type": "display_data",
          "data": {
            "application/vnd.colab-display-data+json": {
              "pip_warning": {
                "packages": [
                  "argparse"
                ]
              }
            }
          },
          "metadata": {}
        },
        {
          "output_type": "stream",
          "name": "stdout",
          "text": [
            "Looking in indexes: https://pypi.org/simple, https://us-python.pkg.dev/colab-wheels/public/simple/\n",
            "Requirement already satisfied: requests in /usr/local/lib/python3.10/dist-packages (2.27.1)\n",
            "Requirement already satisfied: urllib3<1.27,>=1.21.1 in /usr/local/lib/python3.10/dist-packages (from requests) (1.26.15)\n",
            "Requirement already satisfied: certifi>=2017.4.17 in /usr/local/lib/python3.10/dist-packages (from requests) (2022.12.7)\n",
            "Requirement already satisfied: charset-normalizer~=2.0.0 in /usr/local/lib/python3.10/dist-packages (from requests) (2.0.12)\n",
            "Requirement already satisfied: idna<4,>=2.5 in /usr/local/lib/python3.10/dist-packages (from requests) (3.4)\n",
            "Looking in indexes: https://pypi.org/simple, https://us-python.pkg.dev/colab-wheels/public/simple/\n",
            "Collecting colorama\n",
            "  Downloading colorama-0.4.6-py2.py3-none-any.whl (25 kB)\n",
            "Installing collected packages: colorama\n",
            "Successfully installed colorama-0.4.6\n"
          ]
        }
      ]
    },
    {
      "cell_type": "code",
      "source": [
        "from mmsdk import mmdatasdk\n",
        "cmumosi_highlevel=mmdatasdk.mmdataset(mmdatasdk.cmu_mosi.highlevel,'cmumosi/')"
      ],
      "metadata": {
        "colab": {
          "base_uri": "https://localhost:8080/"
        },
        "id": "vdWQYTtGbOVh",
        "outputId": "5b374121-80e6-4bff-c580-33f133ae67cb"
      },
      "execution_count": 16,
      "outputs": [
        {
          "output_type": "stream",
          "name": "stdout",
          "text": [
            "\u001b[94m\u001b[1m[2023-06-15 00:33:29.317] | Status  | \u001b[0mDownloading from http://immortal.multicomp.cs.cmu.edu/CMU-MOSI/language/CMU_MOSI_TimestampedWordVectors.csd to cmumosi/CMU_MOSI_TimestampedWordVectors.csd...\n"
          ]
        },
        {
          "output_type": "stream",
          "name": "stderr",
          "text": []
        },
        {
          "output_type": "stream",
          "name": "stdout",
          "text": [
            "\u001b[92m\u001b[1m[2023-06-15 00:33:31.041] | Success | \u001b[0mDownload complete!\n",
            "\u001b[92m\u001b[1m[2023-06-15 00:33:31.043] | Success | \u001b[0mComputational sequence read from file cmumosi/CMU_MOSI_TimestampedWordVectors.csd ...\n",
            "\u001b[94m\u001b[1m[2023-06-15 00:33:31.061] | Status  | \u001b[0mChecking the integrity of the <glove_vectors> computational sequence ...\n",
            "\u001b[94m\u001b[1m[2023-06-15 00:33:31.062] | Status  | \u001b[0mChecking the format of the data in <glove_vectors> computational sequence ...\n"
          ]
        },
        {
          "output_type": "stream",
          "name": "stderr",
          "text": []
        },
        {
          "output_type": "stream",
          "name": "stdout",
          "text": [
            "\u001b[92m\u001b[1m[2023-06-15 00:33:31.140] | Success | \u001b[0m<glove_vectors> computational sequence data in correct format.\n",
            "\u001b[94m\u001b[1m[2023-06-15 00:33:31.141] | Status  | \u001b[0mChecking the format of the metadata in <glove_vectors> computational sequence ...\n",
            "\u001b[93m\u001b[1m[2023-06-15 00:33:31.142] | Warning | \u001b[0m<glove_vectors> computational sequence does not have all the required metadata ... continuing \n",
            "\u001b[94m\u001b[1m[2023-06-15 00:33:31.204] | Status  | \u001b[0mDownloading from http://immortal.multicomp.cs.cmu.edu/CMU-MOSI/visual/CMU_MOSI_Visual_Facet_41.csd to cmumosi/CMU_MOSI_Visual_Facet_41.csd...\n"
          ]
        },
        {
          "output_type": "stream",
          "name": "stderr",
          "text": []
        },
        {
          "output_type": "stream",
          "name": "stdout",
          "text": [
            "\u001b[92m\u001b[1m[2023-06-15 00:33:33.209] | Success | \u001b[0mDownload complete!\n",
            "\u001b[92m\u001b[1m[2023-06-15 00:33:33.210] | Success | \u001b[0mComputational sequence read from file cmumosi/CMU_MOSI_Visual_Facet_41.csd ...\n",
            "\u001b[94m\u001b[1m[2023-06-15 00:33:33.219] | Status  | \u001b[0mChecking the integrity of the <FACET_4.1> computational sequence ...\n",
            "\u001b[94m\u001b[1m[2023-06-15 00:33:33.219] | Status  | \u001b[0mChecking the format of the data in <FACET_4.1> computational sequence ...\n"
          ]
        },
        {
          "output_type": "stream",
          "name": "stderr",
          "text": []
        },
        {
          "output_type": "stream",
          "name": "stdout",
          "text": [
            "\u001b[92m\u001b[1m[2023-06-15 00:33:33.277] | Success | \u001b[0m<FACET_4.1> computational sequence data in correct format.\n",
            "\u001b[94m\u001b[1m[2023-06-15 00:33:33.277] | Status  | \u001b[0mChecking the format of the metadata in <FACET_4.1> computational sequence ...\n",
            "\u001b[93m\u001b[1m[2023-06-15 00:33:33.277] | Warning | \u001b[0m<FACET_4.1> computational sequence does not have all the required metadata ... continuing \n",
            "\u001b[94m\u001b[1m[2023-06-15 00:33:33.339] | Status  | \u001b[0mDownloading from http://immortal.multicomp.cs.cmu.edu/CMU-MOSI/visual/CMU_MOSI_Visual_Facet_42.csd to cmumosi/CMU_MOSI_Visual_Facet_42.csd...\n"
          ]
        },
        {
          "output_type": "stream",
          "name": "stderr",
          "text": []
        },
        {
          "output_type": "stream",
          "name": "stdout",
          "text": [
            "\u001b[92m\u001b[1m[2023-06-15 00:33:34.955] | Success | \u001b[0mDownload complete!\n",
            "\u001b[92m\u001b[1m[2023-06-15 00:33:34.956] | Success | \u001b[0mComputational sequence read from file cmumosi/CMU_MOSI_Visual_Facet_42.csd ...\n",
            "\u001b[94m\u001b[1m[2023-06-15 00:33:34.966] | Status  | \u001b[0mChecking the integrity of the <FACET_4.2> computational sequence ...\n",
            "\u001b[94m\u001b[1m[2023-06-15 00:33:34.966] | Status  | \u001b[0mChecking the format of the data in <FACET_4.2> computational sequence ...\n"
          ]
        },
        {
          "output_type": "stream",
          "name": "stderr",
          "text": []
        },
        {
          "output_type": "stream",
          "name": "stdout",
          "text": [
            "\u001b[92m\u001b[1m[2023-06-15 00:33:35.019] | Success | \u001b[0m<FACET_4.2> computational sequence data in correct format.\n",
            "\u001b[94m\u001b[1m[2023-06-15 00:33:35.019] | Status  | \u001b[0mChecking the format of the metadata in <FACET_4.2> computational sequence ...\n",
            "\u001b[93m\u001b[1m[2023-06-15 00:33:35.019] | Warning | \u001b[0m<FACET_4.2> computational sequence does not have all the required metadata ... continuing \n",
            "\u001b[94m\u001b[1m[2023-06-15 00:33:35.081] | Status  | \u001b[0mDownloading from http://immortal.multicomp.cs.cmu.edu/CMU-MOSI/acoustic/CMU_MOSI_OpenSmile_EB10.csd to cmumosi/CMU_MOSI_OpenSmile_EB10.csd...\n"
          ]
        },
        {
          "output_type": "stream",
          "name": "stderr",
          "text": []
        },
        {
          "output_type": "stream",
          "name": "stdout",
          "text": [
            "\u001b[92m\u001b[1m[2023-06-15 00:33:35.562] | Success | \u001b[0mDownload complete!\n",
            "\u001b[92m\u001b[1m[2023-06-15 00:33:35.563] | Success | \u001b[0mComputational sequence read from file cmumosi/CMU_MOSI_OpenSmile_EB10.csd ...\n",
            "\u001b[94m\u001b[1m[2023-06-15 00:33:35.577] | Status  | \u001b[0mChecking the integrity of the <OpenSmile_emobase2010> computational sequence ...\n",
            "\u001b[94m\u001b[1m[2023-06-15 00:33:35.577] | Status  | \u001b[0mChecking the format of the data in <OpenSmile_emobase2010> computational sequence ...\n"
          ]
        },
        {
          "output_type": "stream",
          "name": "stderr",
          "text": []
        },
        {
          "output_type": "stream",
          "name": "stdout",
          "text": [
            "\u001b[92m\u001b[1m[2023-06-15 00:33:35.631] | Success | \u001b[0m<OpenSmile_emobase2010> computational sequence data in correct format.\n",
            "\u001b[94m\u001b[1m[2023-06-15 00:33:35.632] | Status  | \u001b[0mChecking the format of the metadata in <OpenSmile_emobase2010> computational sequence ...\n",
            "\u001b[93m\u001b[1m[2023-06-15 00:33:35.633] | Warning | \u001b[0m<OpenSmile_emobase2010> computational sequence does not have all the required metadata ... continuing \n",
            "\u001b[94m\u001b[1m[2023-06-15 00:33:35.694] | Status  | \u001b[0mDownloading from http://immortal.multicomp.cs.cmu.edu/CMU-MOSI/acoustic/CMU_MOSI_openSMILE_IS09.csd to cmumosi/CMU_MOSI_openSMILE_IS09.csd...\n"
          ]
        },
        {
          "output_type": "stream",
          "name": "stderr",
          "text": []
        },
        {
          "output_type": "stream",
          "name": "stdout",
          "text": [
            "\u001b[92m\u001b[1m[2023-06-15 00:33:47.742] | Success | \u001b[0mDownload complete!\n",
            "\u001b[92m\u001b[1m[2023-06-15 00:33:47.744] | Success | \u001b[0mComputational sequence read from file cmumosi/CMU_MOSI_openSMILE_IS09.csd ...\n",
            "\u001b[94m\u001b[1m[2023-06-15 00:33:47.760] | Status  | \u001b[0mChecking the integrity of the <b'OpenSMILE'> computational sequence ...\n",
            "\u001b[94m\u001b[1m[2023-06-15 00:33:47.760] | Status  | \u001b[0mChecking the format of the data in <b'OpenSMILE'> computational sequence ...\n"
          ]
        },
        {
          "output_type": "stream",
          "name": "stderr",
          "text": []
        },
        {
          "output_type": "stream",
          "name": "stdout",
          "text": [
            "\u001b[92m\u001b[1m[2023-06-15 00:33:47.817] | Success | \u001b[0m<b'OpenSMILE'> computational sequence data in correct format.\n",
            "\u001b[94m\u001b[1m[2023-06-15 00:33:47.818] | Status  | \u001b[0mChecking the format of the metadata in <b'OpenSMILE'> computational sequence ...\n",
            "\u001b[93m\u001b[1m[2023-06-15 00:33:47.819] | Warning | \u001b[0m<b'OpenSMILE'> computational sequence does not have all the required metadata ... continuing \n",
            "\u001b[94m\u001b[1m[2023-06-15 00:33:47.879] | Status  | \u001b[0mDownloading from http://immortal.multicomp.cs.cmu.edu/CMU-MOSI/visual/CMU_MOSI_Visual_OpenFace_1.csd to cmumosi/CMU_MOSI_Visual_OpenFace_1.csd...\n"
          ]
        },
        {
          "output_type": "stream",
          "name": "stderr",
          "text": []
        },
        {
          "output_type": "stream",
          "name": "stdout",
          "text": [
            "\u001b[92m\u001b[1m[2023-06-15 00:34:03.963] | Success | \u001b[0mDownload complete!\n",
            "\u001b[92m\u001b[1m[2023-06-15 00:34:03.964] | Success | \u001b[0mComputational sequence read from file cmumosi/CMU_MOSI_Visual_OpenFace_1.csd ...\n",
            "\u001b[94m\u001b[1m[2023-06-15 00:34:03.975] | Status  | \u001b[0mChecking the integrity of the <OpenFace_1> computational sequence ...\n",
            "\u001b[94m\u001b[1m[2023-06-15 00:34:03.975] | Status  | \u001b[0mChecking the format of the data in <OpenFace_1> computational sequence ...\n"
          ]
        },
        {
          "output_type": "stream",
          "name": "stderr",
          "text": []
        },
        {
          "output_type": "stream",
          "name": "stdout",
          "text": [
            "\u001b[92m\u001b[1m[2023-06-15 00:34:04.032] | Success | \u001b[0m<OpenFace_1> computational sequence data in correct format.\n",
            "\u001b[94m\u001b[1m[2023-06-15 00:34:04.032] | Status  | \u001b[0mChecking the format of the metadata in <OpenFace_1> computational sequence ...\n",
            "\u001b[93m\u001b[1m[2023-06-15 00:34:04.032] | Warning | \u001b[0m<OpenFace_1> computational sequence does not have all the required metadata ... continuing \n",
            "\u001b[94m\u001b[1m[2023-06-15 00:34:04.150] | Status  | \u001b[0mDownloading from http://immortal.multicomp.cs.cmu.edu/CMU-MOSI/visual/CMU_MOSI_Visual_OpenFace_2.csd to cmumosi/CMU_MOSI_Visual_OpenFace_2.csd...\n"
          ]
        },
        {
          "output_type": "stream",
          "name": "stderr",
          "text": []
        },
        {
          "output_type": "stream",
          "name": "stdout",
          "text": [
            "\u001b[92m\u001b[1m[2023-06-15 00:34:22.537] | Success | \u001b[0mDownload complete!\n",
            "\u001b[92m\u001b[1m[2023-06-15 00:34:22.546] | Success | \u001b[0mComputational sequence read from file cmumosi/CMU_MOSI_Visual_OpenFace_2.csd ...\n",
            "\u001b[94m\u001b[1m[2023-06-15 00:34:22.567] | Status  | \u001b[0mChecking the integrity of the <OpenFace_2> computational sequence ...\n",
            "\u001b[94m\u001b[1m[2023-06-15 00:34:22.568] | Status  | \u001b[0mChecking the format of the data in <OpenFace_2> computational sequence ...\n"
          ]
        },
        {
          "output_type": "stream",
          "name": "stderr",
          "text": []
        },
        {
          "output_type": "stream",
          "name": "stdout",
          "text": [
            "\u001b[92m\u001b[1m[2023-06-15 00:34:22.656] | Success | \u001b[0m<OpenFace_2> computational sequence data in correct format.\n",
            "\u001b[94m\u001b[1m[2023-06-15 00:34:22.656] | Status  | \u001b[0mChecking the format of the metadata in <OpenFace_2> computational sequence ...\n",
            "\u001b[93m\u001b[1m[2023-06-15 00:34:22.656] | Warning | \u001b[0m<OpenFace_2> computational sequence does not have all the required metadata ... continuing \n",
            "\u001b[94m\u001b[1m[2023-06-15 00:34:22.722] | Status  | \u001b[0mDownloading from http://immortal.multicomp.cs.cmu.edu/CMU-MOSI/acoustic/CMU_MOSI_COVAREP.csd to cmumosi/CMU_MOSI_COVAREP.csd...\n"
          ]
        },
        {
          "output_type": "stream",
          "name": "stderr",
          "text": []
        },
        {
          "output_type": "stream",
          "name": "stdout",
          "text": [
            "\u001b[92m\u001b[1m[2023-06-15 00:34:34.946] | Success | \u001b[0mDownload complete!\n",
            "\u001b[92m\u001b[1m[2023-06-15 00:34:34.948] | Success | \u001b[0mComputational sequence read from file cmumosi/CMU_MOSI_COVAREP.csd ...\n",
            "\u001b[94m\u001b[1m[2023-06-15 00:34:34.960] | Status  | \u001b[0mChecking the integrity of the <COVAREP> computational sequence ...\n",
            "\u001b[94m\u001b[1m[2023-06-15 00:34:34.960] | Status  | \u001b[0mChecking the format of the data in <COVAREP> computational sequence ...\n"
          ]
        },
        {
          "output_type": "stream",
          "name": "stderr",
          "text": [
            "                                                                   "
          ]
        },
        {
          "output_type": "stream",
          "name": "stdout",
          "text": [
            "\u001b[92m\u001b[1m[2023-06-15 00:34:35.031] | Success | \u001b[0m<COVAREP> computational sequence data in correct format.\n",
            "\u001b[94m\u001b[1m[2023-06-15 00:34:35.032] | Status  | \u001b[0mChecking the format of the metadata in <COVAREP> computational sequence ...\n",
            "\u001b[93m\u001b[1m[2023-06-15 00:34:35.032] | Warning | \u001b[0m<COVAREP> computational sequence does not have all the required metadata ... continuing \n",
            "\u001b[92m\u001b[1m[2023-06-15 00:34:35.032] | Success | \u001b[0mDataset initialized successfully ... \n"
          ]
        },
        {
          "output_type": "stream",
          "name": "stderr",
          "text": [
            "\r"
          ]
        }
      ]
    },
    {
      "cell_type": "code",
      "source": [
        "cmumosi_highlevel.add_computational_sequences(mmdatasdk.cmu_mosi.labels,'cmumosi/')"
      ],
      "metadata": {
        "colab": {
          "base_uri": "https://localhost:8080/"
        },
        "id": "GEUkxiiLbwEi",
        "outputId": "15b0329d-532d-4848-d7ae-9a8d36d3a00a"
      },
      "execution_count": 17,
      "outputs": [
        {
          "output_type": "stream",
          "name": "stdout",
          "text": [
            "\u001b[94m\u001b[1m[2023-06-15 00:37:29.883] | Status  | \u001b[0mDownloading from http://immortal.multicomp.cs.cmu.edu/CMU-MOSI/labels/CMU_MOSI_Opinion_Labels.csd to cmumosi/CMU_MOSI_Opinion_Labels.csd...\n"
          ]
        },
        {
          "output_type": "stream",
          "name": "stderr",
          "text": []
        },
        {
          "output_type": "stream",
          "name": "stdout",
          "text": [
            "\u001b[92m\u001b[1m[2023-06-15 00:37:30.116] | Success | \u001b[0mDownload complete!\n",
            "\u001b[92m\u001b[1m[2023-06-15 00:37:30.119] | Success | \u001b[0mComputational sequence read from file cmumosi/CMU_MOSI_Opinion_Labels.csd ...\n",
            "\u001b[94m\u001b[1m[2023-06-15 00:37:30.128] | Status  | \u001b[0mChecking the integrity of the <Opinion Segment Labels> computational sequence ...\n",
            "\u001b[94m\u001b[1m[2023-06-15 00:37:30.128] | Status  | \u001b[0mChecking the format of the data in <Opinion Segment Labels> computational sequence ...\n"
          ]
        },
        {
          "output_type": "stream",
          "name": "stderr",
          "text": []
        },
        {
          "output_type": "stream",
          "name": "stdout",
          "text": [
            "\u001b[92m\u001b[1m[2023-06-15 00:37:30.192] | Success | \u001b[0m<Opinion Segment Labels> computational sequence data in correct format.\n",
            "\u001b[94m\u001b[1m[2023-06-15 00:37:30.193] | Status  | \u001b[0mChecking the format of the metadata in <Opinion Segment Labels> computational sequence ...\n",
            "\u001b[93m\u001b[1m[2023-06-15 00:37:30.194] | Warning | \u001b[0m<Opinion Segment Labels> computational sequence does not have all the required metadata ... continuing \n"
          ]
        }
      ]
    },
    {
      "cell_type": "code",
      "source": [
        "cmumosi_highlevel.align('Opinion Segment Labels')"
      ],
      "metadata": {
        "colab": {
          "base_uri": "https://localhost:8080/"
        },
        "id": "Q99WfRBxfGFQ",
        "outputId": "ab70c4cb-31db-46fd-f228-b90e9f0046d5"
      },
      "execution_count": 18,
      "outputs": [
        {
          "output_type": "stream",
          "name": "stdout",
          "text": [
            "\u001b[94m\u001b[1m[2023-06-15 00:37:45.151] | Status  | \u001b[0mUnify was called ...\n",
            "\u001b[93m\u001b[1m[2023-06-15 00:37:45.157] | Warning | \u001b[0mc5xsKMxpXnc entry is not shared among all sequences, removing it ...\n",
            "\u001b[92m\u001b[1m[2023-06-15 00:37:45.159] | Success | \u001b[0mUnify completed ...\n",
            "\u001b[94m\u001b[1m[2023-06-15 00:37:45.159] | Status  | \u001b[0mPre-alignment based on <Opinion Segment Labels> computational sequence started ...\n",
            "\u001b[94m\u001b[1m[2023-06-15 00:37:49.830] | Status  | \u001b[0mPre-alignment done for <COVAREP> ...\n",
            "\u001b[94m\u001b[1m[2023-06-15 00:37:51.757] | Status  | \u001b[0mPre-alignment done for <FACET_4.1> ...\n",
            "\u001b[94m\u001b[1m[2023-06-15 00:37:53.820] | Status  | \u001b[0mPre-alignment done for <glove_vectors> ...\n",
            "\u001b[94m\u001b[1m[2023-06-15 00:37:55.823] | Status  | \u001b[0mPre-alignment done for <FACET_4.2> ...\n",
            "\u001b[94m\u001b[1m[2023-06-15 00:37:59.641] | Status  | \u001b[0mPre-alignment done for <OpenSMILE> ...\n",
            "\u001b[94m\u001b[1m[2023-06-15 00:38:00.008] | Status  | \u001b[0mPre-alignment done for <OpenSmile-emobase2010> ...\n",
            "\u001b[94m\u001b[1m[2023-06-15 00:38:11.534] | Status  | \u001b[0mPre-alignment done for <OpenFace_2> ...\n",
            "\u001b[94m\u001b[1m[2023-06-15 00:38:19.090] | Status  | \u001b[0mPre-alignment done for <OpenFace_1> ...\n",
            "\u001b[94m\u001b[1m[2023-06-15 00:38:19.148] | Status  | \u001b[0mAlignment starting ...\n"
          ]
        },
        {
          "output_type": "stream",
          "name": "stderr",
          "text": [
            "Overall Progress:   0%|          | 0/92 [00:00<?, ? Computational Sequence Entries/s]\n",
            "  0%|          | 0/13 [00:00<?, ? Segments/s]\u001b[A\n",
            "Aligning 03bSnISJMiM:   0%|          | 0/13 [00:00<?, ? Segments/s]\u001b[A\n",
            "Overall Progress:   1%|          | 1/92 [00:00<00:11,  7.59 Computational Sequence Entries/s]\n",
            "  0%|          | 0/25 [00:00<?, ? Segments/s]\u001b[A\n",
            "Aligning 0h-zjBukYpk:   0%|          | 0/25 [00:00<?, ? Segments/s]\u001b[A\n",
            "Aligning 0h-zjBukYpk:  64%|██████▍   | 16/25 [00:00<00:00, 154.36 Segments/s]\u001b[A\n",
            "Overall Progress:   2%|▏         | 2/92 [00:00<00:14,  6.27 Computational Sequence Entries/s]\n",
            "  0%|          | 0/14 [00:00<?, ? Segments/s]\u001b[A\n",
            "Aligning 1DmNV9C1hbY:   0%|          | 0/14 [00:00<?, ? Segments/s]\u001b[A\n",
            "                                                                   \u001b[A\n",
            "  0%|          | 0/30 [00:00<?, ? Segments/s]\u001b[A\n",
            "Aligning 1iG0909rllw:   0%|          | 0/30 [00:00<?, ? Segments/s]\u001b[A\n",
            "Aligning 1iG0909rllw:  57%|█████▋    | 17/30 [00:00<00:00, 169.95 Segments/s]\u001b[A\n",
            "Overall Progress:   4%|▍         | 4/92 [00:00<00:12,  6.90 Computational Sequence Entries/s]\n",
            "  0%|          | 0/63 [00:00<?, ? Segments/s]\u001b[A\n",
            "Aligning 2WGyTLYerpo:   0%|          | 0/63 [00:00<?, ? Segments/s]\u001b[A\n",
            "Aligning 2WGyTLYerpo:  24%|██▍       | 15/63 [00:00<00:00, 148.56 Segments/s]\u001b[A\n",
            "Aligning 2WGyTLYerpo:  52%|█████▏    | 33/63 [00:00<00:00, 166.17 Segments/s]\u001b[A\n",
            "Aligning 2WGyTLYerpo:  79%|███████▉  | 50/63 [00:00<00:00, 160.21 Segments/s]\u001b[A\n",
            "Overall Progress:   5%|▌         | 5/92 [00:01<00:20,  4.31 Computational Sequence Entries/s]\n",
            "  0%|          | 0/30 [00:00<?, ? Segments/s]\u001b[A\n",
            "Aligning 2iD-tVS8NPw:   0%|          | 0/30 [00:00<?, ? Segments/s]\u001b[A\n",
            "Aligning 2iD-tVS8NPw:  40%|████      | 12/30 [00:00<00:00, 113.77 Segments/s]\u001b[A\n",
            "Aligning 2iD-tVS8NPw:  80%|████████  | 24/30 [00:00<00:00, 112.90 Segments/s]\u001b[A\n",
            "Overall Progress:   7%|▋         | 6/92 [00:01<00:21,  3.94 Computational Sequence Entries/s]\n",
            "  0%|          | 0/24 [00:00<?, ? Segments/s]\u001b[A\n",
            "Aligning 5W7Z1C_fDaE:   0%|          | 0/24 [00:00<?, ? Segments/s]\u001b[A\n",
            "Aligning 5W7Z1C_fDaE:  50%|█████     | 12/24 [00:00<00:00, 114.09 Segments/s]\u001b[A\n",
            "Overall Progress:   8%|▊         | 7/92 [00:01<00:19,  4.25 Computational Sequence Entries/s]\n",
            "  0%|          | 0/12 [00:00<?, ? Segments/s]\u001b[A\n",
            "Aligning 6Egk_28TtTM:   0%|          | 0/12 [00:00<?, ? Segments/s]\u001b[A\n",
            "Aligning 6Egk_28TtTM: 100%|██████████| 12/12 [00:00<00:00, 115.72 Segments/s]\u001b[A\n",
            "Overall Progress:   9%|▊         | 8/92 [00:01<00:17,  4.92 Computational Sequence Entries/s]\n",
            "  0%|          | 0/14 [00:00<?, ? Segments/s]\u001b[A\n",
            "Aligning 6_0THN4chvY:   0%|          | 0/14 [00:00<?, ? Segments/s]\u001b[A\n",
            "Overall Progress:  10%|▉         | 9/92 [00:01<00:14,  5.69 Computational Sequence Entries/s]\n",
            "  0%|          | 0/19 [00:00<?, ? Segments/s]\u001b[A\n",
            "Aligning 73jzhE8R1TQ:   0%|          | 0/19 [00:00<?, ? Segments/s]\u001b[A\n",
            "Aligning 73jzhE8R1TQ:  58%|█████▊    | 11/19 [00:00<00:00, 103.21 Segments/s]\u001b[A\n",
            "Overall Progress:  11%|█         | 10/92 [00:01<00:14,  5.56 Computational Sequence Entries/s]\n",
            "  0%|          | 0/39 [00:00<?, ? Segments/s]\u001b[A\n",
            "Aligning 7JsX8y1ysxY:   0%|          | 0/39 [00:00<?, ? Segments/s]\u001b[A\n",
            "Aligning 7JsX8y1ysxY:  33%|███▎      | 13/39 [00:00<00:00, 127.39 Segments/s]\u001b[A\n",
            "Aligning 7JsX8y1ysxY:  69%|██████▉   | 27/39 [00:00<00:00, 133.08 Segments/s]\u001b[A\n",
            "Overall Progress:  12%|█▏        | 11/92 [00:02<00:18,  4.38 Computational Sequence Entries/s]\n",
            "  0%|          | 0/23 [00:00<?, ? Segments/s]\u001b[A\n",
            "Aligning 8OtFthrtaJM:   0%|          | 0/23 [00:00<?, ? Segments/s]\u001b[A\n",
            "Aligning 8OtFthrtaJM:  43%|████▎     | 10/23 [00:00<00:00, 94.16 Segments/s]\u001b[A\n",
            "Aligning 8OtFthrtaJM: 100%|██████████| 23/23 [00:00<00:00, 110.62 Segments/s]\u001b[A\n",
            "Overall Progress:  13%|█▎        | 12/92 [00:02<00:18,  4.34 Computational Sequence Entries/s]\n",
            "  0%|          | 0/30 [00:00<?, ? Segments/s]\u001b[A\n",
            "Aligning 8d-gEyoeBzc:   0%|          | 0/30 [00:00<?, ? Segments/s]\u001b[A\n",
            "Aligning 8d-gEyoeBzc:  20%|██        | 6/30 [00:00<00:00, 59.40 Segments/s]\u001b[A\n",
            "Aligning 8d-gEyoeBzc:  60%|██████    | 18/30 [00:00<00:00, 93.12 Segments/s]\u001b[A\n",
            "Overall Progress:  14%|█▍        | 13/92 [00:02<00:20,  3.94 Computational Sequence Entries/s]\n",
            "  0%|          | 0/26 [00:00<?, ? Segments/s]\u001b[A\n",
            "Aligning 8qrpnFRGt2A:   0%|          | 0/26 [00:00<?, ? Segments/s]\u001b[A\n",
            "Aligning 8qrpnFRGt2A:  38%|███▊      | 10/26 [00:00<00:00, 98.88 Segments/s]\u001b[A\n",
            "Aligning 8qrpnFRGt2A:  92%|█████████▏| 24/26 [00:00<00:00, 122.09 Segments/s]\u001b[A\n",
            "Overall Progress:  15%|█▌        | 14/92 [00:03<00:19,  3.98 Computational Sequence Entries/s]\n",
            "  0%|          | 0/25 [00:00<?, ? Segments/s]\u001b[A\n",
            "Aligning 9J25DZhivz8:   0%|          | 0/25 [00:00<?, ? Segments/s]\u001b[A\n",
            "Aligning 9J25DZhivz8:  52%|█████▏    | 13/25 [00:00<00:00, 125.55 Segments/s]\u001b[A\n",
            "Overall Progress:  16%|█▋        | 15/92 [00:03<00:18,  4.19 Computational Sequence Entries/s]\n",
            "  0%|          | 0/25 [00:00<?, ? Segments/s]\u001b[A\n",
            "Aligning 9T9Hf74oK10:   0%|          | 0/25 [00:00<?, ? Segments/s]\u001b[A\n",
            "Aligning 9T9Hf74oK10:  40%|████      | 10/25 [00:00<00:00, 98.91 Segments/s]\u001b[A\n",
            "Aligning 9T9Hf74oK10:  92%|█████████▏| 23/25 [00:00<00:00, 113.46 Segments/s]\u001b[A\n",
            "Overall Progress:  17%|█▋        | 16/92 [00:03<00:18,  4.12 Computational Sequence Entries/s]\n",
            "  0%|          | 0/12 [00:00<?, ? Segments/s]\u001b[A\n",
            "Aligning 9c67fiY0wGQ:   0%|          | 0/12 [00:00<?, ? Segments/s]\u001b[A\n",
            "                                                                   \u001b[A\n",
            "  0%|          | 0/33 [00:00<?, ? Segments/s]\u001b[A\n",
            "Aligning 9qR7uwkblbs:   0%|          | 0/33 [00:00<?, ? Segments/s]\u001b[A\n",
            "Aligning 9qR7uwkblbs:  30%|███       | 10/33 [00:00<00:00, 93.20 Segments/s]\u001b[A\n",
            "Aligning 9qR7uwkblbs:  70%|██████▉   | 23/33 [00:00<00:00, 112.93 Segments/s]\u001b[A\n",
            "Overall Progress:  20%|█▉        | 18/92 [00:03<00:16,  4.51 Computational Sequence Entries/s]\n",
            "  0%|          | 0/31 [00:00<?, ? Segments/s]\u001b[A\n",
            "Aligning Af8D0E4ZXaw:   0%|          | 0/31 [00:00<?, ? Segments/s]\u001b[A\n",
            "Aligning Af8D0E4ZXaw:  39%|███▊      | 12/31 [00:00<00:00, 115.33 Segments/s]\u001b[A\n",
            "Aligning Af8D0E4ZXaw:  81%|████████  | 25/31 [00:00<00:00, 120.26 Segments/s]\u001b[A\n",
            "Overall Progress:  21%|██        | 19/92 [00:04<00:17,  4.26 Computational Sequence Entries/s]\n",
            "  0%|          | 0/31 [00:00<?, ? Segments/s]\u001b[A\n",
            "Aligning BI97DNYfe5I:   0%|          | 0/31 [00:00<?, ? Segments/s]\u001b[A\n",
            "Aligning BI97DNYfe5I:  58%|█████▊    | 18/31 [00:00<00:00, 172.52 Segments/s]\u001b[A\n",
            "Overall Progress:  22%|██▏       | 20/92 [00:04<00:15,  4.52 Computational Sequence Entries/s]\n",
            "  0%|          | 0/31 [00:00<?, ? Segments/s]\u001b[A\n",
            "Aligning BXuRRbG0Ugk:   0%|          | 0/31 [00:00<?, ? Segments/s]\u001b[A\n",
            "Aligning BXuRRbG0Ugk:  61%|██████▏   | 19/31 [00:00<00:00, 187.00 Segments/s]\u001b[A\n",
            "Overall Progress:  23%|██▎       | 21/92 [00:04<00:15,  4.72 Computational Sequence Entries/s]\n",
            "  0%|          | 0/22 [00:00<?, ? Segments/s]\u001b[A\n",
            "Aligning Bfr499ggo-0:   0%|          | 0/22 [00:00<?, ? Segments/s]\u001b[A\n",
            "Overall Progress:  24%|██▍       | 22/92 [00:04<00:12,  5.48 Computational Sequence Entries/s]\n",
            "  0%|          | 0/30 [00:00<?, ? Segments/s]\u001b[A\n",
            "Aligning BioHAh1qJAQ:   0%|          | 0/30 [00:00<?, ? Segments/s]\u001b[A\n",
            "Aligning BioHAh1qJAQ:  57%|█████▋    | 17/30 [00:00<00:00, 166.70 Segments/s]\u001b[A\n",
            "Overall Progress:  25%|██▌       | 23/92 [00:04<00:12,  5.44 Computational Sequence Entries/s]\n",
            "  0%|          | 0/26 [00:00<?, ? Segments/s]\u001b[A\n",
            "Aligning BvYR0L6f2Ig:   0%|          | 0/26 [00:00<?, ? Segments/s]\u001b[A\n",
            "Aligning BvYR0L6f2Ig:  69%|██████▉   | 18/26 [00:00<00:00, 179.59 Segments/s]\u001b[A\n",
            "Overall Progress:  26%|██▌       | 24/92 [00:05<00:12,  5.61 Computational Sequence Entries/s]\n",
            "  0%|          | 0/44 [00:00<?, ? Segments/s]\u001b[A\n",
            "Aligning Ci-AH39fi3Y:   0%|          | 0/44 [00:00<?, ? Segments/s]\u001b[A\n",
            "Aligning Ci-AH39fi3Y:  43%|████▎     | 19/44 [00:00<00:00, 187.24 Segments/s]\u001b[A\n",
            "Aligning Ci-AH39fi3Y:  86%|████████▋ | 38/44 [00:00<00:00, 186.40 Segments/s]\u001b[A\n",
            "Overall Progress:  27%|██▋       | 25/92 [00:05<00:13,  4.97 Computational Sequence Entries/s]\n",
            "  0%|          | 0/31 [00:00<?, ? Segments/s]\u001b[A\n",
            "Aligning Clx4VXItLTE:   0%|          | 0/31 [00:00<?, ? Segments/s]\u001b[A\n",
            "Aligning Clx4VXItLTE:  58%|█████▊    | 18/31 [00:00<00:00, 172.55 Segments/s]\u001b[A\n",
            "Overall Progress:  28%|██▊       | 26/92 [00:05<00:13,  5.05 Computational Sequence Entries/s]\n",
            "  0%|          | 0/18 [00:00<?, ? Segments/s]\u001b[A\n",
            "Aligning Dg_0XKD0Mf4:   0%|          | 0/18 [00:00<?, ? Segments/s]\u001b[A\n",
            "Aligning Dg_0XKD0Mf4:  94%|█████████▍| 17/18 [00:00<00:00, 169.40 Segments/s]\u001b[A\n",
            "Overall Progress:  29%|██▉       | 27/92 [00:05<00:11,  5.59 Computational Sequence Entries/s]\n",
            "  0%|          | 0/21 [00:00<?, ? Segments/s]\u001b[A\n",
            "Aligning G-xst2euQUc:   0%|          | 0/21 [00:00<?, ? Segments/s]\u001b[A\n",
            "Aligning G-xst2euQUc:  95%|█████████▌| 20/21 [00:00<00:00, 197.76 Segments/s]\u001b[A\n",
            "Overall Progress:  30%|███       | 28/92 [00:05<00:10,  6.02 Computational Sequence Entries/s]\n",
            "  0%|          | 0/29 [00:00<?, ? Segments/s]\u001b[A\n",
            "Aligning G6GlGvlkxAQ:   0%|          | 0/29 [00:00<?, ? Segments/s]\u001b[A\n",
            "Aligning G6GlGvlkxAQ:  66%|██████▌   | 19/29 [00:00<00:00, 182.67 Segments/s]\u001b[A\n",
            "Overall Progress:  32%|███▏      | 29/92 [00:05<00:10,  5.92 Computational Sequence Entries/s]\n",
            "  0%|          | 0/18 [00:00<?, ? Segments/s]\u001b[A\n",
            "Aligning GWuJjcEuzt8:   0%|          | 0/18 [00:00<?, ? Segments/s]\u001b[A\n",
            "Overall Progress:  33%|███▎      | 30/92 [00:06<00:09,  6.52 Computational Sequence Entries/s]\n",
            "  0%|          | 0/34 [00:00<?, ? Segments/s]\u001b[A\n",
            "Aligning HEsqda8_d0Q:   0%|          | 0/34 [00:00<?, ? Segments/s]\u001b[A\n",
            "Aligning HEsqda8_d0Q:  59%|█████▉    | 20/34 [00:00<00:00, 193.54 Segments/s]\u001b[A\n",
            "Overall Progress:  34%|███▎      | 31/92 [00:06<00:10,  6.06 Computational Sequence Entries/s]\n",
            "  0%|          | 0/39 [00:00<?, ? Segments/s]\u001b[A\n",
            "Aligning I5y0__X72p0:   0%|          | 0/39 [00:00<?, ? Segments/s]\u001b[A\n",
            "Aligning I5y0__X72p0:  51%|█████▏    | 20/39 [00:00<00:00, 190.07 Segments/s]\u001b[A\n",
            "Overall Progress:  35%|███▍      | 32/92 [00:06<00:10,  5.57 Computational Sequence Entries/s]\n",
            "  0%|          | 0/16 [00:00<?, ? Segments/s]\u001b[A\n",
            "Aligning Iu2PFX3z_1s:   0%|          | 0/16 [00:00<?, ? Segments/s]\u001b[A\n",
            "                                                                   \u001b[A\n",
            "  0%|          | 0/22 [00:00<?, ? Segments/s]\u001b[A\n",
            "Aligning IumbAb8q2dM:   0%|          | 0/22 [00:00<?, ? Segments/s]\u001b[A\n",
            "Overall Progress:  37%|███▋      | 34/92 [00:06<00:08,  7.12 Computational Sequence Entries/s]\n",
            "  0%|          | 0/20 [00:00<?, ? Segments/s]\u001b[A\n",
            "Aligning Jkswaaud0hk:   0%|          | 0/20 [00:00<?, ? Segments/s]\u001b[A\n",
            "                                                                   \u001b[A\n",
            "  0%|          | 0/29 [00:00<?, ? Segments/s]\u001b[A\n",
            "Aligning LSi-o-IrDMs:   0%|          | 0/29 [00:00<?, ? Segments/s]\u001b[A\n",
            "Aligning LSi-o-IrDMs:  79%|███████▉  | 23/29 [00:00<00:00, 226.02 Segments/s]\u001b[A\n",
            "Overall Progress:  39%|███▉      | 36/92 [00:06<00:07,  7.52 Computational Sequence Entries/s]\n",
            "  0%|          | 0/18 [00:00<?, ? Segments/s]\u001b[A\n",
            "Aligning MLal-t_vJPM:   0%|          | 0/18 [00:00<?, ? Segments/s]\u001b[A\n",
            "                                                                   \u001b[A\n",
            "  0%|          | 0/13 [00:00<?, ? Segments/s]\u001b[A\n",
            "Aligning Njd1F0vZSm4:   0%|          | 0/13 [00:00<?, ? Segments/s]\u001b[A\n",
            "Overall Progress:  41%|████▏     | 38/92 [00:07<00:06,  8.72 Computational Sequence Entries/s]\n",
            "  0%|          | 0/32 [00:00<?, ? Segments/s]\u001b[A\n",
            "Aligning Nzq88NnDkEk:   0%|          | 0/32 [00:00<?, ? Segments/s]\u001b[A\n",
            "Aligning Nzq88NnDkEk:  59%|█████▉    | 19/32 [00:00<00:00, 188.16 Segments/s]\u001b[A\n",
            "Overall Progress:  42%|████▏     | 39/92 [00:07<00:06,  7.86 Computational Sequence Entries/s]\n",
            "  0%|          | 0/16 [00:00<?, ? Segments/s]\u001b[A\n",
            "Aligning OQvJTdtJ2H4:   0%|          | 0/16 [00:00<?, ? Segments/s]\u001b[A\n",
            "                                                                   \u001b[A\n",
            "  0%|          | 0/24 [00:00<?, ? Segments/s]\u001b[A\n",
            "Aligning OtBXNcAL_lE:   0%|          | 0/24 [00:00<?, ? Segments/s]\u001b[A\n",
            "Aligning OtBXNcAL_lE:  92%|█████████▏| 22/24 [00:00<00:00, 212.67 Segments/s]\u001b[A\n",
            "Overall Progress:  45%|████▍     | 41/92 [00:07<00:06,  8.32 Computational Sequence Entries/s]\n",
            "  0%|          | 0/25 [00:00<?, ? Segments/s]\u001b[A\n",
            "Aligning Oz06ZWiO20M:   0%|          | 0/25 [00:00<?, ? Segments/s]\u001b[A\n",
            "Aligning Oz06ZWiO20M:  92%|█████████▏| 23/25 [00:00<00:00, 226.60 Segments/s]\u001b[A\n",
            "Overall Progress:  46%|████▌     | 42/92 [00:07<00:06,  8.07 Computational Sequence Entries/s]\n",
            "  0%|          | 0/13 [00:00<?, ? Segments/s]\u001b[A\n",
            "Aligning POKffnXeBds:   0%|          | 0/13 [00:00<?, ? Segments/s]\u001b[A\n",
            "                                                                   \u001b[A\n",
            "  0%|          | 0/12 [00:00<?, ? Segments/s]\u001b[A\n",
            "Aligning PZ-lDQFboO8:   0%|          | 0/12 [00:00<?, ? Segments/s]\u001b[A\n",
            "Overall Progress:  48%|████▊     | 44/92 [00:07<00:05,  9.42 Computational Sequence Entries/s]\n",
            "  0%|          | 0/18 [00:00<?, ? Segments/s]\u001b[A\n",
            "Aligning QN9ZIUWUXsY:   0%|          | 0/18 [00:00<?, ? Segments/s]\u001b[A\n",
            "Overall Progress:  49%|████▉     | 45/92 [00:07<00:04,  9.42 Computational Sequence Entries/s]\n",
            "  0%|          | 0/14 [00:00<?, ? Segments/s]\u001b[A\n",
            "Aligning Qr1Ca94K55A:   0%|          | 0/14 [00:00<?, ? Segments/s]\u001b[A\n",
            "                                                                   \u001b[A\n",
            "  0%|          | 0/22 [00:00<?, ? Segments/s]\u001b[A\n",
            "Aligning Sqr0AcuoNnk:   0%|          | 0/22 [00:00<?, ? Segments/s]\u001b[A\n",
            "Overall Progress:  51%|█████     | 47/92 [00:08<00:04,  9.71 Computational Sequence Entries/s]\n",
            "  0%|          | 0/15 [00:00<?, ? Segments/s]\u001b[A\n",
            "Aligning TvyZBvOMOTc:   0%|          | 0/15 [00:00<?, ? Segments/s]\u001b[A\n",
            "                                                                   \u001b[A\n",
            "  0%|          | 0/17 [00:00<?, ? Segments/s]\u001b[A\n",
            "Aligning VCslbP0mgZI:   0%|          | 0/17 [00:00<?, ? Segments/s]\u001b[A\n",
            "Overall Progress:  53%|█████▎    | 49/92 [00:08<00:04, 10.05 Computational Sequence Entries/s]\n",
            "  0%|          | 0/55 [00:00<?, ? Segments/s]\u001b[A\n",
            "Aligning VbQk4H8hgr0:   0%|          | 0/55 [00:00<?, ? Segments/s]\u001b[A\n",
            "Aligning VbQk4H8hgr0:  44%|████▎     | 24/55 [00:00<00:00, 232.60 Segments/s]\u001b[A\n",
            "Aligning VbQk4H8hgr0:  91%|█████████ | 50/55 [00:00<00:00, 248.11 Segments/s]\u001b[A\n",
            "                                                                             \u001b[A\n",
            "  0%|          | 0/9 [00:00<?, ? Segments/s]\u001b[A\n",
            "Aligning Vj1wYRQjB-o:   0%|          | 0/9 [00:00<?, ? Segments/s]\u001b[A\n",
            "Overall Progress:  55%|█████▌    | 51/92 [00:08<00:04,  8.45 Computational Sequence Entries/s]\n",
            "  0%|          | 0/32 [00:00<?, ? Segments/s]\u001b[A\n",
            "Aligning W8NXH0Djyww:   0%|          | 0/32 [00:00<?, ? Segments/s]\u001b[A\n",
            "Aligning W8NXH0Djyww:  62%|██████▎   | 20/32 [00:00<00:00, 195.73 Segments/s]\u001b[A\n",
            "Overall Progress:  57%|█████▋    | 52/92 [00:08<00:05,  7.79 Computational Sequence Entries/s]\n",
            "  0%|          | 0/22 [00:00<?, ? Segments/s]\u001b[A\n",
            "Aligning WKA5OygbEKI:   0%|          | 0/22 [00:00<?, ? Segments/s]\u001b[A\n",
            "Overall Progress:  58%|█████▊    | 53/92 [00:08<00:04,  7.95 Computational Sequence Entries/s]\n",
            "  0%|          | 0/11 [00:00<?, ? Segments/s]\u001b[A\n",
            "Aligning X3j2zQgwYgE:   0%|          | 0/11 [00:00<?, ? Segments/s]\u001b[A\n",
            "                                                                   \u001b[A\n",
            "  0%|          | 0/9 [00:00<?, ? Segments/s]\u001b[A\n",
            "Aligning ZAIRrfG22O0:   0%|          | 0/9 [00:00<?, ? Segments/s]\u001b[A\n",
            "Overall Progress:  60%|█████▉    | 55/92 [00:08<00:03, 10.02 Computational Sequence Entries/s]\n",
            "  0%|          | 0/34 [00:00<?, ? Segments/s]\u001b[A\n",
            "Aligning ZUXBRvtny7o:   0%|          | 0/34 [00:00<?, ? Segments/s]\u001b[A\n",
            "Aligning ZUXBRvtny7o:  65%|██████▍   | 22/34 [00:00<00:00, 213.57 Segments/s]\u001b[A\n",
            "                                                                             \u001b[A\n",
            "  0%|          | 0/28 [00:00<?, ? Segments/s]\u001b[A\n",
            "Aligning _dI--eQ6qVU:   0%|          | 0/28 [00:00<?, ? Segments/s]\u001b[A\n",
            "Aligning _dI--eQ6qVU:  71%|███████▏  | 20/28 [00:00<00:00, 198.29 Segments/s]\u001b[A\n",
            "Overall Progress:  62%|██████▏   | 57/92 [00:09<00:04,  8.07 Computational Sequence Entries/s]\n",
            "  0%|          | 0/30 [00:00<?, ? Segments/s]\u001b[A\n",
            "Aligning aiEXnCPZubE:   0%|          | 0/30 [00:00<?, ? Segments/s]\u001b[A\n",
            "Aligning aiEXnCPZubE:  73%|███████▎  | 22/30 [00:00<00:00, 219.74 Segments/s]\u001b[A\n",
            "Overall Progress:  63%|██████▎   | 58/92 [00:09<00:04,  7.75 Computational Sequence Entries/s]\n",
            "  0%|          | 0/21 [00:00<?, ? Segments/s]\u001b[A\n",
            "Aligning atnd_PF-Lbs:   0%|          | 0/21 [00:00<?, ? Segments/s]\u001b[A\n",
            "Overall Progress:  64%|██████▍   | 59/92 [00:09<00:04,  8.02 Computational Sequence Entries/s]\n",
            "  0%|          | 0/34 [00:00<?, ? Segments/s]\u001b[A\n",
            "Aligning bOL9jKpeJRs:   0%|          | 0/34 [00:00<?, ? Segments/s]\u001b[A\n",
            "Aligning bOL9jKpeJRs:  82%|████████▏ | 28/34 [00:00<00:00, 274.84 Segments/s]\u001b[A\n",
            "Overall Progress:  65%|██████▌   | 60/92 [00:09<00:04,  7.72 Computational Sequence Entries/s]\n",
            "  0%|          | 0/25 [00:00<?, ? Segments/s]\u001b[A\n",
            "Aligning bvLlb-M3UXU:   0%|          | 0/25 [00:00<?, ? Segments/s]\u001b[A\n",
            "Aligning bvLlb-M3UXU:  80%|████████  | 20/25 [00:00<00:00, 193.01 Segments/s]\u001b[A\n",
            "Overall Progress:  66%|██████▋   | 61/92 [00:09<00:04,  7.46 Computational Sequence Entries/s]\n",
            "  0%|          | 0/33 [00:00<?, ? Segments/s]\u001b[A\n",
            "Aligning c7UH_rxdZv4:   0%|          | 0/33 [00:00<?, ? Segments/s]\u001b[A\n",
            "Aligning c7UH_rxdZv4:  64%|██████▎   | 21/33 [00:00<00:00, 205.77 Segments/s]\u001b[A\n",
            "Overall Progress:  67%|██████▋   | 62/92 [00:09<00:04,  6.98 Computational Sequence Entries/s]\n",
            "  0%|          | 0/16 [00:00<?, ? Segments/s]\u001b[A\n",
            "Aligning cM3Yna7AavY:   0%|          | 0/16 [00:00<?, ? Segments/s]\u001b[A\n",
            "                                                                   \u001b[A\n",
            "  0%|          | 0/24 [00:00<?, ? Segments/s]\u001b[A\n",
            "Aligning cW1FSBF59ik:   0%|          | 0/24 [00:00<?, ? Segments/s]\u001b[A\n",
            "Aligning cW1FSBF59ik:  88%|████████▊ | 21/24 [00:00<00:00, 204.50 Segments/s]\u001b[A\n",
            "Overall Progress:  70%|██████▉   | 64/92 [00:10<00:03,  7.58 Computational Sequence Entries/s]\n",
            "  0%|          | 0/29 [00:00<?, ? Segments/s]\u001b[A\n",
            "Aligning cXypl4FnoZo:   0%|          | 0/29 [00:00<?, ? Segments/s]\u001b[A\n",
            "Aligning cXypl4FnoZo:  72%|███████▏  | 21/29 [00:00<00:00, 204.45 Segments/s]\u001b[A\n",
            "Overall Progress:  71%|███████   | 65/92 [00:10<00:03,  7.28 Computational Sequence Entries/s]\n",
            "  0%|          | 0/19 [00:00<?, ? Segments/s]\u001b[A\n",
            "Aligning d3_k5Xpfmik:   0%|          | 0/19 [00:00<?, ? Segments/s]\u001b[A\n",
            "Overall Progress:  72%|███████▏  | 66/92 [00:10<00:03,  7.70 Computational Sequence Entries/s]\n",
            "  0%|          | 0/43 [00:00<?, ? Segments/s]\u001b[A\n",
            "Aligning d6hH302o4v8:   0%|          | 0/43 [00:00<?, ? Segments/s]\u001b[A\n",
            "Aligning d6hH302o4v8:  60%|██████    | 26/43 [00:00<00:00, 259.01 Segments/s]\u001b[A\n",
            "Overall Progress:  73%|███████▎  | 67/92 [00:10<00:03,  6.97 Computational Sequence Entries/s]\n",
            "  0%|          | 0/15 [00:00<?, ? Segments/s]\u001b[A\n",
            "Aligning dq3Nf_lMPnE:   0%|          | 0/15 [00:00<?, ? Segments/s]\u001b[A\n",
            "                                                                   \u001b[A\n",
            "  0%|          | 0/19 [00:00<?, ? Segments/s]\u001b[A\n",
            "Aligning etzxEpPuc6I:   0%|          | 0/19 [00:00<?, ? Segments/s]\u001b[A\n",
            "Overall Progress:  75%|███████▌  | 69/92 [00:10<00:02,  7.89 Computational Sequence Entries/s]\n",
            "  0%|          | 0/30 [00:00<?, ? Segments/s]\u001b[A\n",
            "Aligning f9O3YtZ2VfI:   0%|          | 0/30 [00:00<?, ? Segments/s]\u001b[A\n",
            "Aligning f9O3YtZ2VfI:  77%|███████▋  | 23/30 [00:00<00:00, 225.56 Segments/s]\u001b[A\n",
            "Overall Progress:  76%|███████▌  | 70/92 [00:11<00:02,  7.48 Computational Sequence Entries/s]\n",
            "  0%|          | 0/15 [00:00<?, ? Segments/s]\u001b[A\n",
            "Aligning f_pcplsH_V0:   0%|          | 0/15 [00:00<?, ? Segments/s]\u001b[A\n",
            "Overall Progress:  77%|███████▋  | 71/92 [00:11<00:02,  7.98 Computational Sequence Entries/s]\n",
            "  0%|          | 0/14 [00:00<?, ? Segments/s]\u001b[A\n",
            "Aligning fvVhgmXxadc:   0%|          | 0/14 [00:00<?, ? Segments/s]\u001b[A\n",
            "                                                                   \u001b[A\n",
            "  0%|          | 0/18 [00:00<?, ? Segments/s]\u001b[A\n",
            "Aligning iiK8YX8oH1E:   0%|          | 0/18 [00:00<?, ? Segments/s]\u001b[A\n",
            "Overall Progress:  79%|███████▉  | 73/92 [00:11<00:02,  8.97 Computational Sequence Entries/s]\n",
            "  0%|          | 0/27 [00:00<?, ? Segments/s]\u001b[A\n",
            "Aligning jUzDDGyPkXU:   0%|          | 0/27 [00:00<?, ? Segments/s]\u001b[A\n",
            "Aligning jUzDDGyPkXU:  67%|██████▋   | 18/27 [00:00<00:00, 178.52 Segments/s]\u001b[A\n",
            "Overall Progress:  80%|████████  | 74/92 [00:11<00:02,  7.99 Computational Sequence Entries/s]\n",
            "  0%|          | 0/31 [00:00<?, ? Segments/s]\u001b[A\n",
            "Aligning k5Y_838nuGo:   0%|          | 0/31 [00:00<?, ? Segments/s]\u001b[A\n",
            "Aligning k5Y_838nuGo:  61%|██████▏   | 19/31 [00:00<00:00, 187.92 Segments/s]\u001b[A\n",
            "Overall Progress:  82%|████████▏ | 75/92 [00:11<00:02,  7.20 Computational Sequence Entries/s]\n",
            "  0%|          | 0/30 [00:00<?, ? Segments/s]\u001b[A\n",
            "Aligning lXPQBPVc5Cw:   0%|          | 0/30 [00:00<?, ? Segments/s]\u001b[A\n",
            "Aligning lXPQBPVc5Cw:  43%|████▎     | 13/30 [00:00<00:00, 129.93 Segments/s]\u001b[A\n",
            "Overall Progress:  83%|████████▎ | 76/92 [00:11<00:02,  6.40 Computational Sequence Entries/s]\n",
            "  0%|          | 0/10 [00:00<?, ? Segments/s]\u001b[A\n",
            "Aligning nbWiPyCm4g0:   0%|          | 0/10 [00:00<?, ? Segments/s]\u001b[A\n",
            "                                                                   \u001b[A\n",
            "  0%|          | 0/24 [00:00<?, ? Segments/s]\u001b[A\n",
            "Aligning nzpVDcQ0ywM:   0%|          | 0/24 [00:00<?, ? Segments/s]\u001b[A\n",
            "Aligning nzpVDcQ0ywM:  75%|███████▌  | 18/24 [00:00<00:00, 178.40 Segments/s]\u001b[A\n",
            "Overall Progress:  85%|████████▍ | 78/92 [00:12<00:01,  7.09 Computational Sequence Entries/s]\n",
            "  0%|          | 0/14 [00:00<?, ? Segments/s]\u001b[A\n",
            "Aligning ob23OKe5a9Q:   0%|          | 0/14 [00:00<?, ? Segments/s]\u001b[A\n",
            "Overall Progress:  86%|████████▌ | 79/92 [00:12<00:01,  7.53 Computational Sequence Entries/s]\n",
            "  0%|          | 0/16 [00:00<?, ? Segments/s]\u001b[A\n",
            "Aligning pLTX3ipuDJI:   0%|          | 0/16 [00:00<?, ? Segments/s]\u001b[A\n",
            "                                                                   \u001b[A\n",
            "  0%|          | 0/21 [00:00<?, ? Segments/s]\u001b[A\n",
            "Aligning phBUpBr1hSo:   0%|          | 0/21 [00:00<?, ? Segments/s]\u001b[A\n",
            "Aligning phBUpBr1hSo:  71%|███████▏  | 15/21 [00:00<00:00, 147.92 Segments/s]\u001b[A\n",
            "Overall Progress:  88%|████████▊ | 81/92 [00:12<00:01,  7.75 Computational Sequence Entries/s]\n",
            "  0%|          | 0/22 [00:00<?, ? Segments/s]\u001b[A\n",
            "Aligning rnaNMUZpvvg:   0%|          | 0/22 [00:00<?, ? Segments/s]\u001b[A\n",
            "Aligning rnaNMUZpvvg:  86%|████████▋ | 19/22 [00:00<00:00, 186.07 Segments/s]\u001b[A\n",
            "Overall Progress:  89%|████████▉ | 82/92 [00:12<00:01,  7.58 Computational Sequence Entries/s]\n",
            "  0%|          | 0/18 [00:00<?, ? Segments/s]\u001b[A\n",
            "Aligning tIrG4oNLFzE:   0%|          | 0/18 [00:00<?, ? Segments/s]\u001b[A\n",
            "Aligning tIrG4oNLFzE:  89%|████████▉ | 16/18 [00:00<00:00, 152.60 Segments/s]\u001b[A\n",
            "Overall Progress:  90%|█████████ | 83/92 [00:12<00:01,  7.35 Computational Sequence Entries/s]\n",
            "  0%|          | 0/16 [00:00<?, ? Segments/s]\u001b[A\n",
            "Aligning tStelxIAHjw:   0%|          | 0/16 [00:00<?, ? Segments/s]\u001b[A\n",
            "Overall Progress:  91%|█████████▏| 84/92 [00:12<00:01,  7.77 Computational Sequence Entries/s]\n",
            "  0%|          | 0/20 [00:00<?, ? Segments/s]\u001b[A\n",
            "Aligning tmZoasNr4rU:   0%|          | 0/20 [00:00<?, ? Segments/s]\u001b[A\n",
            "Aligning tmZoasNr4rU:  80%|████████  | 16/20 [00:00<00:00, 154.89 Segments/s]\u001b[A\n",
            "Overall Progress:  92%|█████████▏| 85/92 [00:13<00:00,  7.41 Computational Sequence Entries/s]\n",
            "  0%|          | 0/16 [00:00<?, ? Segments/s]\u001b[A\n",
            "Aligning v0zCBqDeKcE:   0%|          | 0/16 [00:00<?, ? Segments/s]\u001b[A\n",
            "Overall Progress:  93%|█████████▎| 86/92 [00:13<00:00,  7.64 Computational Sequence Entries/s]\n",
            "  0%|          | 0/12 [00:00<?, ? Segments/s]\u001b[A\n",
            "Aligning vvZ4IcEtiZc:   0%|          | 0/12 [00:00<?, ? Segments/s]\u001b[A\n",
            "                                                                   \u001b[A\n",
            "  0%|          | 0/22 [00:00<?, ? Segments/s]\u001b[A\n",
            "Aligning vyB00TXsimI:   0%|          | 0/22 [00:00<?, ? Segments/s]\u001b[A\n",
            "Aligning vyB00TXsimI:  86%|████████▋ | 19/22 [00:00<00:00, 183.79 Segments/s]\u001b[A\n",
            "Overall Progress:  96%|█████████▌| 88/92 [00:13<00:00,  7.85 Computational Sequence Entries/s]\n",
            "  0%|          | 0/30 [00:00<?, ? Segments/s]\u001b[A\n",
            "Aligning wMbj6ajWbic:   0%|          | 0/30 [00:00<?, ? Segments/s]\u001b[A\n",
            "Aligning wMbj6ajWbic:  57%|█████▋    | 17/30 [00:00<00:00, 169.58 Segments/s]\u001b[A\n",
            "Overall Progress:  97%|█████████▋| 89/92 [00:13<00:00,  6.95 Computational Sequence Entries/s]\n",
            "  0%|          | 0/24 [00:00<?, ? Segments/s]\u001b[A\n",
            "Aligning yDtzw_Y-7RU:   0%|          | 0/24 [00:00<?, ? Segments/s]\u001b[A\n",
            "Aligning yDtzw_Y-7RU:  67%|██████▋   | 16/24 [00:00<00:00, 153.76 Segments/s]\u001b[A\n",
            "Overall Progress:  98%|█████████▊| 90/92 [00:13<00:00,  6.71 Computational Sequence Entries/s]\n",
            "  0%|          | 0/23 [00:00<?, ? Segments/s]\u001b[A\n",
            "Aligning yvsjCA6Y5Fc:   0%|          | 0/23 [00:00<?, ? Segments/s]\u001b[A\n",
            "Aligning yvsjCA6Y5Fc:  61%|██████    | 14/23 [00:00<00:00, 139.04 Segments/s]\u001b[A\n",
            "Overall Progress:  99%|█████████▉| 91/92 [00:13<00:00,  6.47 Computational Sequence Entries/s]\n",
            "  0%|          | 0/35 [00:00<?, ? Segments/s]\u001b[A\n",
            "Aligning zhpQhgha_KU:   0%|          | 0/35 [00:00<?, ? Segments/s]\u001b[A\n",
            "Aligning zhpQhgha_KU:  54%|█████▍    | 19/35 [00:00<00:00, 187.28 Segments/s]\u001b[A\n"
          ]
        },
        {
          "output_type": "stream",
          "name": "stdout",
          "text": [
            "\u001b[92m\u001b[1m[2023-06-15 00:38:33.259] | Success | \u001b[0mAlignment to <Opinion Segment Labels> complete.\n",
            "\u001b[94m\u001b[1m[2023-06-15 00:38:33.259] | Status  | \u001b[0mReplacing dataset content with aligned computational sequences\n",
            "\u001b[92m\u001b[1m[2023-06-15 00:38:33.299] | Success | \u001b[0mInitialized empty <glove_vectors> computational sequence.\n",
            "\u001b[94m\u001b[1m[2023-06-15 00:38:33.300] | Status  | \u001b[0mChecking the format of the data in <glove_vectors> computational sequence ...\n"
          ]
        },
        {
          "output_type": "stream",
          "name": "stderr",
          "text": []
        },
        {
          "output_type": "stream",
          "name": "stdout",
          "text": [
            "\u001b[92m\u001b[1m[2023-06-15 00:38:33.318] | Success | \u001b[0m<glove_vectors> computational sequence data in correct format.\n",
            "\u001b[94m\u001b[1m[2023-06-15 00:38:33.322] | Status  | \u001b[0mChecking the format of the metadata in <glove_vectors> computational sequence ...\n",
            "\u001b[93m\u001b[1m[2023-06-15 00:38:33.323] | Warning | \u001b[0m<glove_vectors> computational sequence does not have all the required metadata ... continuing \n",
            "\u001b[92m\u001b[1m[2023-06-15 00:38:33.324] | Success | \u001b[0mInitialized empty <FACET_4.1> computational sequence.\n",
            "\u001b[94m\u001b[1m[2023-06-15 00:38:33.324] | Status  | \u001b[0mChecking the format of the data in <FACET_4.1> computational sequence ...\n"
          ]
        },
        {
          "output_type": "stream",
          "name": "stderr",
          "text": []
        },
        {
          "output_type": "stream",
          "name": "stdout",
          "text": [
            "\u001b[92m\u001b[1m[2023-06-15 00:38:33.338] | Success | \u001b[0m<FACET_4.1> computational sequence data in correct format.\n",
            "\u001b[94m\u001b[1m[2023-06-15 00:38:33.338] | Status  | \u001b[0mChecking the format of the metadata in <FACET_4.1> computational sequence ...\n",
            "\u001b[93m\u001b[1m[2023-06-15 00:38:33.338] | Warning | \u001b[0m<FACET_4.1> computational sequence does not have all the required metadata ... continuing \n",
            "\u001b[92m\u001b[1m[2023-06-15 00:38:33.339] | Success | \u001b[0mInitialized empty <FACET_4.2> computational sequence.\n",
            "\u001b[94m\u001b[1m[2023-06-15 00:38:33.339] | Status  | \u001b[0mChecking the format of the data in <FACET_4.2> computational sequence ...\n"
          ]
        },
        {
          "output_type": "stream",
          "name": "stderr",
          "text": []
        },
        {
          "output_type": "stream",
          "name": "stdout",
          "text": [
            "\u001b[92m\u001b[1m[2023-06-15 00:38:33.353] | Success | \u001b[0m<FACET_4.2> computational sequence data in correct format.\n",
            "\u001b[94m\u001b[1m[2023-06-15 00:38:33.353] | Status  | \u001b[0mChecking the format of the metadata in <FACET_4.2> computational sequence ...\n",
            "\u001b[93m\u001b[1m[2023-06-15 00:38:33.353] | Warning | \u001b[0m<FACET_4.2> computational sequence does not have all the required metadata ... continuing \n",
            "\u001b[92m\u001b[1m[2023-06-15 00:38:33.353] | Success | \u001b[0mInitialized empty <OpenSmile-emobase2010> computational sequence.\n",
            "\u001b[94m\u001b[1m[2023-06-15 00:38:33.353] | Status  | \u001b[0mChecking the format of the data in <OpenSmile-emobase2010> computational sequence ...\n"
          ]
        },
        {
          "output_type": "stream",
          "name": "stderr",
          "text": []
        },
        {
          "output_type": "stream",
          "name": "stdout",
          "text": [
            "\u001b[92m\u001b[1m[2023-06-15 00:38:33.379] | Success | \u001b[0m<OpenSmile-emobase2010> computational sequence data in correct format.\n",
            "\u001b[94m\u001b[1m[2023-06-15 00:38:33.380] | Status  | \u001b[0mChecking the format of the metadata in <OpenSmile-emobase2010> computational sequence ...\n",
            "\u001b[93m\u001b[1m[2023-06-15 00:38:33.380] | Warning | \u001b[0m<OpenSmile-emobase2010> computational sequence does not have all the required metadata ... continuing \n",
            "\u001b[92m\u001b[1m[2023-06-15 00:38:33.380] | Success | \u001b[0mInitialized empty <OpenSMILE> computational sequence.\n",
            "\u001b[94m\u001b[1m[2023-06-15 00:38:33.380] | Status  | \u001b[0mChecking the format of the data in <OpenSMILE> computational sequence ...\n"
          ]
        },
        {
          "output_type": "stream",
          "name": "stderr",
          "text": []
        },
        {
          "output_type": "stream",
          "name": "stdout",
          "text": [
            "\u001b[92m\u001b[1m[2023-06-15 00:38:33.397] | Success | \u001b[0m<OpenSMILE> computational sequence data in correct format.\n",
            "\u001b[94m\u001b[1m[2023-06-15 00:38:33.397] | Status  | \u001b[0mChecking the format of the metadata in <OpenSMILE> computational sequence ...\n",
            "\u001b[93m\u001b[1m[2023-06-15 00:38:33.397] | Warning | \u001b[0m<OpenSMILE> computational sequence does not have all the required metadata ... continuing \n",
            "\u001b[92m\u001b[1m[2023-06-15 00:38:33.397] | Success | \u001b[0mInitialized empty <OpenFace_1> computational sequence.\n",
            "\u001b[94m\u001b[1m[2023-06-15 00:38:33.397] | Status  | \u001b[0mChecking the format of the data in <OpenFace_1> computational sequence ...\n"
          ]
        },
        {
          "output_type": "stream",
          "name": "stderr",
          "text": []
        },
        {
          "output_type": "stream",
          "name": "stdout",
          "text": [
            "\u001b[92m\u001b[1m[2023-06-15 00:38:33.413] | Success | \u001b[0m<OpenFace_1> computational sequence data in correct format.\n",
            "\u001b[94m\u001b[1m[2023-06-15 00:38:33.413] | Status  | \u001b[0mChecking the format of the metadata in <OpenFace_1> computational sequence ...\n",
            "\u001b[93m\u001b[1m[2023-06-15 00:38:33.413] | Warning | \u001b[0m<OpenFace_1> computational sequence does not have all the required metadata ... continuing \n",
            "\u001b[92m\u001b[1m[2023-06-15 00:38:33.414] | Success | \u001b[0mInitialized empty <OpenFace_2> computational sequence.\n",
            "\u001b[94m\u001b[1m[2023-06-15 00:38:33.414] | Status  | \u001b[0mChecking the format of the data in <OpenFace_2> computational sequence ...\n"
          ]
        },
        {
          "output_type": "stream",
          "name": "stderr",
          "text": []
        },
        {
          "output_type": "stream",
          "name": "stdout",
          "text": [
            "\u001b[92m\u001b[1m[2023-06-15 00:38:33.420] | Success | \u001b[0m<OpenFace_2> computational sequence data in correct format.\n",
            "\u001b[94m\u001b[1m[2023-06-15 00:38:33.421] | Status  | \u001b[0mChecking the format of the metadata in <OpenFace_2> computational sequence ...\n",
            "\u001b[93m\u001b[1m[2023-06-15 00:38:33.421] | Warning | \u001b[0m<OpenFace_2> computational sequence does not have all the required metadata ... continuing \n",
            "\u001b[92m\u001b[1m[2023-06-15 00:38:33.421] | Success | \u001b[0mInitialized empty <COVAREP> computational sequence.\n",
            "\u001b[94m\u001b[1m[2023-06-15 00:38:33.421] | Status  | \u001b[0mChecking the format of the data in <COVAREP> computational sequence ...\n"
          ]
        },
        {
          "output_type": "stream",
          "name": "stderr",
          "text": []
        },
        {
          "output_type": "stream",
          "name": "stdout",
          "text": [
            "\u001b[92m\u001b[1m[2023-06-15 00:38:33.438] | Success | \u001b[0m<COVAREP> computational sequence data in correct format.\n",
            "\u001b[94m\u001b[1m[2023-06-15 00:38:33.438] | Status  | \u001b[0mChecking the format of the metadata in <COVAREP> computational sequence ...\n",
            "\u001b[93m\u001b[1m[2023-06-15 00:38:33.438] | Warning | \u001b[0m<COVAREP> computational sequence does not have all the required metadata ... continuing \n",
            "\u001b[92m\u001b[1m[2023-06-15 00:38:33.438] | Success | \u001b[0mInitialized empty <Opinion Segment Labels> computational sequence.\n",
            "\u001b[94m\u001b[1m[2023-06-15 00:38:33.438] | Status  | \u001b[0mChecking the format of the data in <Opinion Segment Labels> computational sequence ...\n"
          ]
        },
        {
          "output_type": "stream",
          "name": "stderr",
          "text": [
            "                                                                     "
          ]
        },
        {
          "output_type": "stream",
          "name": "stdout",
          "text": [
            "\u001b[92m\u001b[1m[2023-06-15 00:38:33.457] | Success | \u001b[0m<Opinion Segment Labels> computational sequence data in correct format.\n",
            "\u001b[94m\u001b[1m[2023-06-15 00:38:33.457] | Status  | \u001b[0mChecking the format of the metadata in <Opinion Segment Labels> computational sequence ...\n",
            "\u001b[93m\u001b[1m[2023-06-15 00:38:33.457] | Warning | \u001b[0m<Opinion Segment Labels> computational sequence does not have all the required metadata ... continuing \n"
          ]
        },
        {
          "output_type": "stream",
          "name": "stderr",
          "text": [
            "\r"
          ]
        }
      ]
    },
    {
      "cell_type": "code",
      "source": [
        "import mmsdk\n",
        "from mmsdk import mmdatasdk\n",
        "from mmsdk.mmdatasdk import log\n",
        "import numpy\n",
        "\n",
        "def myavg(intervals,features):\n",
        "        return numpy.average(features,axis=0)\n",
        "\n",
        "def deploy(in_dataset,destination):\n",
        "\tdeploy_files={x:x for x in in_dataset.keys()}\n",
        "\tin_dataset.deploy(destination,deploy_files)\n",
        "\n",
        "\n",
        "def download_data():\n",
        "\tsource={\"raw\":mmdatasdk.cmu_mosei.raw,\"highlevel\":mmdatasdk.cmu_mosei.highlevel,\"labels\":mmdatasdk.cmu_mosei.labels}\n",
        "\tcmumosei_dataset={}\n",
        "\tfor key in source:\n",
        "\t\tcmumosei_dataset[key]=mmdatasdk.mmdataset(source[key],'cmumosei_%s/'%key)\n",
        "\treturn cmumosei_dataset\n",
        "\n",
        "def process_data(folders=[\"cmumosei_highlevel\",\"cmumosei_labels\"]):\n",
        "\tlog.status(\"You can also download all the outputs of this code from here: http://immortal.multicomp.cs.cmu.edu/ACL20Challenge/\")\n",
        "\n",
        "\tcmumosei_dataset={}\n",
        "\tfor folder in folders:\n",
        "\t\tcmumosei_dataset[folder.split(\"_\")[1]]=mmdatasdk.mmdataset(folder)\n",
        "\n",
        "\t#performs word alignment. Labels are not part of the word alignment process.\n",
        "\tcmumosei_dataset[\"highlevel\"].align(\"glove_vectors\")\n",
        "\t#replacing missing modality information for words - some words may experience failed COVAREP, etc.\n",
        "\tcmumosei_dataset[\"highlevel\"].impute('glove_vectors')\n",
        "\t#this writes the word aligned computational sequences to the disk\n",
        "\tdeploy(cmumosei_dataset[\"highlevel\"],\"word_aligned_highlevel\")\n",
        "\t#if you want to load the word aligned from the disk, comment out the lines for align and impute, and uncomment the line below.\n",
        "\t#cmumosei_dataset[\"highlevel\"]=mmdatasdk.mmdataset(\"word_aligned_highlevel\")\n",
        "\n",
        "\t#now aligning to the labels - first adding labels to the dataset\n",
        "\tcmumosei_dataset[\"highlevel\"].computational_sequences[\"All Labels\"]=cmumosei_dataset[\"labels\"][\"All Labels\"]\n",
        "\t#the actual alignment without collapse function this time\n",
        "\tcmumosei_dataset[\"highlevel\"].align(\"All Labels\")\n",
        "\t#removing sentences which have missing modality information\n",
        "\tcmumosei_dataset[\"highlevel\"].hard_unify()\n",
        "\n",
        "\t#writing the final aligned to disk\n",
        "\tdeploy(cmumosei_dataset[\"highlevel\"],\"final_aligned\")\n",
        "\n",
        "\t#reading from the disk - if the above process is done.\n",
        "\t#cmumosei_dataset[\"highlevel\"]=mmdatasdk.mmdataset(\"final_aligned\")\n",
        "\n",
        "\t#getting the final tensors for machine learning - pass the folds to this function to get data based on tr,va,te folds.\n",
        "\ttensors=cmumosei_dataset[\"highlevel\"].get_tensors(seq_len=50,non_sequences=[\"All Labels\"],direction=False,folds=[mmdatasdk.cmu_mosei.standard_folds.standard_train_fold,mmdatasdk.cmu_mosei.standard_folds.standard_valid_fold,mmdatasdk.cmu_mosei.standard_folds.standard_test_fold])\n",
        "\n",
        "\tfold_names=[\"train\",\"valid\",\"test\"]\n",
        "\n",
        "\tfor i in range(3):\n",
        "\t\t#output the shape of the tensors\n",
        "\t\tfor csd in list(cmumosei_dataset[\"highlevel\"].keys()):\n",
        "\t\t\tprint (\"Shape of the %s computational sequence for %s fold is %s\"%(csd,fold_names[i],tensors[i][csd].shape))\n",
        "\n",
        "\n",
        "\n",
        "  return train, valid, test\n",
        "\n",
        "if __name__==\"__main__\":\n",
        "\n",
        "\tprint (\"You only need to download the data once!\")\n",
        "\tcmumosei_dataset=download_data()\n",
        "\tprocess_data()\n",
        "\tlog.success(\"Dataset processed\")"
      ],
      "metadata": {
        "colab": {
          "base_uri": "https://localhost:8080/"
        },
        "id": "-QY8s636fKGe",
        "outputId": "c715942c-9e4f-42ea-c918-262d7dab1262"
      },
      "execution_count": null,
      "outputs": [
        {
          "output_type": "stream",
          "name": "stdout",
          "text": [
            "You only need to download the data once!\n",
            "\u001b[94m\u001b[1m[2023-06-15 00:45:28.217] | Status  | \u001b[0mDownloading from http://immortal.multicomp.cs.cmu.edu/CMU-MOSEI/language/CMU_MOSEI_TimestampedWords.csd to cmumosei_raw/CMU_MOSEI_TimestampedWords.csd...\n"
          ]
        },
        {
          "output_type": "stream",
          "name": "stderr",
          "text": []
        },
        {
          "output_type": "stream",
          "name": "stdout",
          "text": [
            "\u001b[92m\u001b[1m[2023-06-15 00:45:29.598] | Success | \u001b[0mDownload complete!\n",
            "\u001b[92m\u001b[1m[2023-06-15 00:45:29.600] | Success | \u001b[0mComputational sequence read from file cmumosei_raw/CMU_MOSEI_TimestampedWords.csd ...\n",
            "\u001b[94m\u001b[1m[2023-06-15 00:45:29.741] | Status  | \u001b[0mChecking the integrity of the <words> computational sequence ...\n",
            "\u001b[94m\u001b[1m[2023-06-15 00:45:29.741] | Status  | \u001b[0mChecking the format of the data in <words> computational sequence ...\n"
          ]
        },
        {
          "output_type": "stream",
          "name": "stderr",
          "text": []
        },
        {
          "output_type": "stream",
          "name": "stdout",
          "text": [
            "\u001b[92m\u001b[1m[2023-06-15 00:45:31.877] | Success | \u001b[0m<words> computational sequence data in correct format.\n",
            "\u001b[94m\u001b[1m[2023-06-15 00:45:31.879] | Status  | \u001b[0mChecking the format of the metadata in <words> computational sequence ...\n",
            "\u001b[93m\u001b[1m[2023-06-15 00:45:31.879] | Warning | \u001b[0m<words> computational sequence does not have all the required metadata ... continuing \n",
            "\u001b[94m\u001b[1m[2023-06-15 00:45:31.940] | Status  | \u001b[0mDownloading from http://immortal.multicomp.cs.cmu.edu/CMU-MOSEI/language/CMU_MOSEI_TimestampedPhones.csd to cmumosei_raw/CMU_MOSEI_TimestampedPhones.csd...\n"
          ]
        },
        {
          "output_type": "stream",
          "name": "stderr",
          "text": []
        },
        {
          "output_type": "stream",
          "name": "stdout",
          "text": [
            "\u001b[92m\u001b[1m[2023-06-15 00:45:33.859] | Success | \u001b[0mDownload complete!\n",
            "\u001b[92m\u001b[1m[2023-06-15 00:45:33.860] | Success | \u001b[0mComputational sequence read from file cmumosei_raw/CMU_MOSEI_TimestampedPhones.csd ...\n",
            "\u001b[94m\u001b[1m[2023-06-15 00:45:33.967] | Status  | \u001b[0mChecking the integrity of the <phoneme> computational sequence ...\n",
            "\u001b[94m\u001b[1m[2023-06-15 00:45:33.967] | Status  | \u001b[0mChecking the format of the data in <phoneme> computational sequence ...\n"
          ]
        },
        {
          "output_type": "stream",
          "name": "stderr",
          "text": []
        },
        {
          "output_type": "stream",
          "name": "stdout",
          "text": [
            "\u001b[92m\u001b[1m[2023-06-15 00:45:36.090] | Success | \u001b[0m<phoneme> computational sequence data in correct format.\n",
            "\u001b[94m\u001b[1m[2023-06-15 00:45:36.090] | Status  | \u001b[0mChecking the format of the metadata in <phoneme> computational sequence ...\n",
            "\u001b[93m\u001b[1m[2023-06-15 00:45:36.090] | Warning | \u001b[0m<phoneme> computational sequence does not have all the required metadata ... continuing \n",
            "\u001b[92m\u001b[1m[2023-06-15 00:45:36.090] | Success | \u001b[0mDataset initialized successfully ... \n",
            "\u001b[94m\u001b[1m[2023-06-15 00:45:36.153] | Status  | \u001b[0mDownloading from http://immortal.multicomp.cs.cmu.edu/CMU-MOSEI/language/CMU_MOSEI_TimestampedWordVectors.csd to cmumosei_highlevel/CMU_MOSEI_TimestampedWordVectors.csd...\n"
          ]
        },
        {
          "output_type": "stream",
          "name": "stderr",
          "text": []
        },
        {
          "output_type": "stream",
          "name": "stdout",
          "text": [
            "\u001b[92m\u001b[1m[2023-06-15 00:46:20.530] | Success | \u001b[0mDownload complete!\n",
            "\u001b[92m\u001b[1m[2023-06-15 00:46:20.532] | Success | \u001b[0mComputational sequence read from file cmumosei_highlevel/CMU_MOSEI_TimestampedWordVectors.csd ...\n",
            "\u001b[94m\u001b[1m[2023-06-15 00:46:20.715] | Status  | \u001b[0mChecking the integrity of the <glove_vectors> computational sequence ...\n",
            "\u001b[94m\u001b[1m[2023-06-15 00:46:20.715] | Status  | \u001b[0mChecking the format of the data in <glove_vectors> computational sequence ...\n"
          ]
        },
        {
          "output_type": "stream",
          "name": "stderr",
          "text": []
        },
        {
          "output_type": "stream",
          "name": "stdout",
          "text": [
            "\u001b[92m\u001b[1m[2023-06-15 00:46:22.878] | Success | \u001b[0m<glove_vectors> computational sequence data in correct format.\n",
            "\u001b[94m\u001b[1m[2023-06-15 00:46:22.878] | Status  | \u001b[0mChecking the format of the metadata in <glove_vectors> computational sequence ...\n",
            "\u001b[93m\u001b[1m[2023-06-15 00:46:22.878] | Warning | \u001b[0m<glove_vectors> computational sequence does not have all the required metadata ... continuing \n",
            "\u001b[94m\u001b[1m[2023-06-15 00:46:23.016] | Status  | \u001b[0mDownloading from http://immortal.multicomp.cs.cmu.edu/CMU-MOSEI/acoustic/CMU_MOSEI_COVAREP.csd to cmumosei_highlevel/CMU_MOSEI_COVAREP.csd...\n"
          ]
        },
        {
          "output_type": "stream",
          "name": "stderr",
          "text": []
        },
        {
          "output_type": "stream",
          "name": "stdout",
          "text": [
            "\u001b[92m\u001b[1m[2023-06-15 00:53:04.154] | Success | \u001b[0mDownload complete!\n",
            "\u001b[92m\u001b[1m[2023-06-15 00:53:04.168] | Success | \u001b[0mComputational sequence read from file cmumosei_highlevel/CMU_MOSEI_COVAREP.csd ...\n",
            "\u001b[94m\u001b[1m[2023-06-15 00:53:06.415] | Status  | \u001b[0mChecking the integrity of the <COVAREP> computational sequence ...\n",
            "\u001b[94m\u001b[1m[2023-06-15 00:53:06.415] | Status  | \u001b[0mChecking the format of the data in <COVAREP> computational sequence ...\n"
          ]
        },
        {
          "output_type": "stream",
          "name": "stderr",
          "text": []
        },
        {
          "output_type": "stream",
          "name": "stdout",
          "text": [
            "\u001b[92m\u001b[1m[2023-06-15 00:53:12.489] | Success | \u001b[0m<COVAREP> computational sequence data in correct format.\n",
            "\u001b[94m\u001b[1m[2023-06-15 00:53:12.489] | Status  | \u001b[0mChecking the format of the metadata in <COVAREP> computational sequence ...\n",
            "\u001b[93m\u001b[1m[2023-06-15 00:53:12.489] | Warning | \u001b[0m<COVAREP> computational sequence does not have all the required metadata ... continuing \n",
            "\u001b[94m\u001b[1m[2023-06-15 00:53:12.617] | Status  | \u001b[0mDownloading from http://immortal.multicomp.cs.cmu.edu/CMU-MOSEI/visual/CMU_MOSEI_VisualOpenFace2.csd to cmumosei_highlevel/CMU_MOSEI_VisualOpenFace2.csd...\n"
          ]
        },
        {
          "output_type": "stream",
          "name": "stderr",
          "text": [
            " 86%|████████▋ | 14084604/16326638 [07:12<00:59, 37416.24kB/s, Total in kBs]"
          ]
        }
      ]
    },
    {
      "cell_type": "code",
      "source": [],
      "metadata": {
        "id": "jUVz5uRDhti7"
      },
      "execution_count": null,
      "outputs": []
    }
  ]
}